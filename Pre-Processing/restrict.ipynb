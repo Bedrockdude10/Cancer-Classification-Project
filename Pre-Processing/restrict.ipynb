{
 "cells": [
  {
   "cell_type": "code",
   "execution_count": null,
   "metadata": {},
   "outputs": [],
   "source": [
    "from utils import read_data"
   ]
  },
  {
   "cell_type": "code",
   "execution_count": null,
   "metadata": {},
   "outputs": [],
   "source": [
    "GPL96 = read_data(\"data/GPL96.csv\")\n",
    "labels_96 = set(GPL96.label.unique())\n",
    "\n",
    "GPL570 = read_data(\"data/GPL570.csv\")\n",
    "labels_570 = set(GPL570.label.unique())\n",
    "\n",
    "intersection = labels_96.intersection(labels_570)"
   ]
  },
  {
   "cell_type": "code",
   "execution_count": null,
   "metadata": {},
   "outputs": [],
   "source": [
    "GPL96[GPL96.label.isin(intersection)].to_csv(\"data/GPL96Restriction.csv\", index=False)\n",
    "GPL570[GPL570.label.isin(intersection)].to_csv(\"data/GPL570Restriction.csv\", index=False)"
   ]
  }
 ],
 "metadata": {
  "kernelspec": {
   "display_name": "Python 3",
   "language": "python",
   "name": "python3"
  },
  "language_info": {
   "codemirror_mode": {
    "name": "ipython",
    "version": 3
   },
   "file_extension": ".py",
   "mimetype": "text/x-python",
   "name": "python",
   "nbconvert_exporter": "python",
   "pygments_lexer": "ipython3",
   "version": "3.11.6"
  }
 },
 "nbformat": 4,
 "nbformat_minor": 2
}
