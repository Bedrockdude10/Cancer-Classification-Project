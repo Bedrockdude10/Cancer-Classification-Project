{
 "cells": [
  {
   "cell_type": "code",
   "execution_count": 1,
   "metadata": {},
   "outputs": [],
   "source": [
    "from sklearn.model_selection import train_test_split\n",
    "from sklearn.linear_model import LogisticRegression\n",
    "from sklearn.preprocessing import StandardScaler\n",
    "from sklearn.metrics import accuracy_score\n",
    "from sklearn.decomposition import PCA\n",
    "\n",
    "from collections import defaultdict\n",
    "import pandas as pd\n",
    "import numpy as np"
   ]
  },
  {
   "cell_type": "code",
   "execution_count": 2,
   "metadata": {},
   "outputs": [],
   "source": [
    "def read_data(path):\n",
    "    dtype = defaultdict(lambda: np.float32)\n",
    "    dtype[\"label\"] = str\n",
    "    return pd.read_csv(path, dtype=dtype)\n",
    "\n",
    "def int_enc(data):\n",
    "    unique = data[\"label\"].unique().tolist()\n",
    "    data[\"label\"] = [ unique.index(x) for x in data[\"label\"] ]\n",
    "    return data"
   ]
  },
  {
   "cell_type": "code",
   "execution_count": 3,
   "metadata": {},
   "outputs": [],
   "source": [
    "data = read_data(\"data/GPL96.csv\")\n",
    "data = int_enc(data)"
   ]
  },
  {
   "cell_type": "markdown",
   "metadata": {},
   "source": [
    "### PCA"
   ]
  },
  {
   "cell_type": "code",
   "execution_count": 4,
   "metadata": {},
   "outputs": [],
   "source": [
    "X = data.drop([\"label\"], axis=1).values\n",
    "y = data[\"label\"].values\n",
    "\n",
    "X = StandardScaler().fit_transform(X)\n",
    "X = PCA(n_components=30).fit_transform(X)\n",
    "\n",
    "X_tr, X_te, y_tr, y_te = train_test_split(\n",
    "    X, y, train_size=.7, shuffle=True)"
   ]
  },
  {
   "cell_type": "code",
   "execution_count": 5,
   "metadata": {},
   "outputs": [
    {
     "name": "stdout",
     "output_type": "stream",
     "text": [
      "1.0 0.9848484848484849\n"
     ]
    }
   ],
   "source": [
    "lr = LogisticRegression(max_iter=50000)\n",
    "lr.fit(X_tr, y_tr)\n",
    "\n",
    "h_tr = lr.predict(X_tr)\n",
    "a_tr = accuracy_score(y_tr, h_tr)\n",
    "\n",
    "h_te = lr.predict(X_te)\n",
    "a_te = accuracy_score(y_te, h_te)\n",
    "\n",
    "print(a_tr, a_te)"
   ]
  },
  {
   "cell_type": "markdown",
   "metadata": {},
   "source": [
    "1 and .98 on GPL96\n",
    "\n",
    ".99 and .94 on GPL570"
   ]
  }
 ],
 "metadata": {
  "kernelspec": {
   "display_name": "Python 3",
   "language": "python",
   "name": "python3"
  },
  "language_info": {
   "codemirror_mode": {
    "name": "ipython",
    "version": 3
   },
   "file_extension": ".py",
   "mimetype": "text/x-python",
   "name": "python",
   "nbconvert_exporter": "python",
   "pygments_lexer": "ipython3",
   "version": "3.11.6"
  }
 },
 "nbformat": 4,
 "nbformat_minor": 2
}
