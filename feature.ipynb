{
 "cells": [
  {
   "cell_type": "code",
   "execution_count": 1,
   "metadata": {},
   "outputs": [],
   "source": [
    "from sklearn.model_selection import train_test_split, cross_validate\n",
    "from sklearn.linear_model import LogisticRegression\n",
    "from sklearn.neural_network import MLPClassifier\n",
    "from sklearn.preprocessing import StandardScaler\n",
    "from sklearn.decomposition import PCA\n",
    "from sklearn.pipeline import Pipeline\n",
    "\n",
    "from utils import (\n",
    "    read_data, int_enc, shuffle_Xy, plot_confusion_matrix, \n",
    "    plot_roc_curves, plot_feature_analysis\n",
    ")\n",
    "import matplotlib.pyplot as plt\n",
    "import pandas as pd\n",
    "import numpy as np"
   ]
  },
  {
   "cell_type": "code",
   "execution_count": 2,
   "metadata": {},
   "outputs": [],
   "source": [
    "lr_model = Pipeline([\n",
    "    (\"pca\", PCA(n_components=50)),\n",
    "    (\"lr\", LogisticRegression(max_iter=50000))\n",
    "])\n",
    "\n",
    "configs = {\n",
    "    \"LR on GPL96\": {\n",
    "        \"genes\": \"GPL96\", \n",
    "        \"model\": lr_model\n",
    "    },\n",
    "    \"LR on GPL570\": {\n",
    "        \"genes\": \"GPL570\", \n",
    "        \"model\": lr_model\n",
    "    }\n",
    "}"
   ]
  },
  {
   "cell_type": "code",
   "execution_count": 3,
   "metadata": {},
   "outputs": [],
   "source": [
    "for name, config in configs.items():\n",
    "\n",
    "    genes = config[\"genes\"]\n",
    "    model = config[\"model\"]\n",
    "    prefix = name.replace(\" \", \"\")\n",
    "\n",
    "    # prepare the dataset\n",
    "    data = read_data(f\"data/{genes}Restriction.csv\")\n",
    "    data, labels = int_enc(data)\n",
    "\n",
    "    # grab the feature names\n",
    "    feat = pd.read_csv(f\"data/{genes}Restriction.csv\", nrows=1)\n",
    "    feat = feat.columns.tolist()\n",
    "    feat.remove(\"label\")\n",
    "\n",
    "    X = data.drop([\"label\"], axis=1).values\n",
    "    y = data[\"label\"].values\n",
    "\n",
    "    X = StandardScaler().fit_transform(X)\n",
    "    X, y = shuffle_Xy(X, y)\n",
    "\n",
    "    # train on whole set\n",
    "    model.fit(X, y)\n",
    "\n",
    "    V = model.named_steps[\"pca\"].components_\n",
    "    W = model.named_steps[\"lr\"].coef_\n",
    "\n",
    "    # contribution of each features to each class\n",
    "    contribution = W @ V # n class x m feat.\n",
    "\n",
    "    # for each feature, neglecting class\n",
    "    total_contribution = np.sum(np.abs(contribution), axis=0)\n",
    "\n",
    "    plot_feature_analysis(\n",
    "        total_contribution, \n",
    "        feat, \n",
    "        title=f\"{name} - Feature Analysis\",\n",
    "        path=f\"results/{prefix}Features.png\",\n",
    "    )"
   ]
  }
 ],
 "metadata": {
  "kernelspec": {
   "display_name": "Python 3",
   "language": "python",
   "name": "python3"
  },
  "language_info": {
   "codemirror_mode": {
    "name": "ipython",
    "version": 3
   },
   "file_extension": ".py",
   "mimetype": "text/x-python",
   "name": "python",
   "nbconvert_exporter": "python",
   "pygments_lexer": "ipython3",
   "version": "3.11.6"
  }
 },
 "nbformat": 4,
 "nbformat_minor": 2
}
