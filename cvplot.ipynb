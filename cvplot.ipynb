{
 "cells": [
  {
   "cell_type": "code",
   "execution_count": null,
   "metadata": {},
   "outputs": [],
   "source": [
    "import matplotlib.pyplot as plt\n",
    "import numpy as np"
   ]
  },
  {
   "cell_type": "markdown",
   "metadata": {},
   "source": [
    "#### Full datasets"
   ]
  },
  {
   "cell_type": "code",
   "execution_count": null,
   "metadata": {},
   "outputs": [],
   "source": [
    "nngpl96 = np.load(\"results/NNGPL96.npy\")\n",
    "nngpl570 = np.load(\"results/NNGPL570.npy\")\n",
    "lrgpl96 = np.load(\"results/LRGPL96.npy\")\n",
    "lrgpl570 = np.load(\"results/LRGPL570.npy\")\n",
    "\n",
    "plt.title(\"Accuracy Distribution - 10-fold CV\")\n",
    "plt.boxplot(\n",
    "    [nngpl96, nngpl570, lrgpl96, lrgpl570],\n",
    "    labels=[\"NN GPL96\", \"NN GPL570\", \"LR GPL96\", \"LR GPL570\"])\n",
    "plt.xlabel(\"Model / Gene Set\")\n",
    "plt.ylabel(\"Accuracy\")\n",
    "plt.ylim(.9, 1.01)\n",
    "plt.grid()\n",
    "\n",
    "plt.savefig(\"results/accdist.png\")\n",
    "plt.show()"
   ]
  },
  {
   "cell_type": "markdown",
   "metadata": {},
   "source": [
    "#### Restricted datasets"
   ]
  },
  {
   "cell_type": "code",
   "execution_count": null,
   "metadata": {},
   "outputs": [],
   "source": [
    "nngpl96 = np.load(\"results/NNGPL96Restriction.npy\")\n",
    "nngpl570 = np.load(\"results/NNGPL570Restriction.npy\")\n",
    "lrgpl96 = np.load(\"results/LRGPL96Restriction.npy\")\n",
    "lrgpl570 = np.load(\"results/LRGPL570Restriction.npy\")\n",
    "\n",
    "plt.title(\"Accuracy Distribution - 10-fold CV\")\n",
    "plt.boxplot(\n",
    "    [nngpl96, nngpl570, lrgpl96, lrgpl570],\n",
    "    labels=[\"NN GPL96\", \"NN GPL570\", \"LR GPL96\", \"LR GPL570\"])\n",
    "plt.xlabel(\"Model / Gene Set\")\n",
    "plt.ylabel(\"Accuracy\")\n",
    "plt.ylim(.9, 1.01)\n",
    "plt.grid()\n",
    "\n",
    "plt.savefig(\"results/accdistrestr.png\")\n",
    "plt.show()"
   ]
  }
 ],
 "metadata": {
  "kernelspec": {
   "display_name": "Python 3",
   "language": "python",
   "name": "python3"
  },
  "language_info": {
   "codemirror_mode": {
    "name": "ipython",
    "version": 3
   },
   "file_extension": ".py",
   "mimetype": "text/x-python",
   "name": "python",
   "nbconvert_exporter": "python",
   "pygments_lexer": "ipython3",
   "version": "3.11.6"
  }
 },
 "nbformat": 4,
 "nbformat_minor": 2
}
