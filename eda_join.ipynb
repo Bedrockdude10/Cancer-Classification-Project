{
 "cells": [
  {
   "cell_type": "code",
   "execution_count": 1,
   "metadata": {},
   "outputs": [],
   "source": [
    "from glob import glob\n",
    "from tqdm import tqdm\n",
    "import pandas as pd\n",
    "import numpy as np\n",
    "import warnings"
   ]
  },
  {
   "cell_type": "code",
   "execution_count": 2,
   "metadata": {},
   "outputs": [],
   "source": [
    "def validate_files(GPL):\n",
    "    files = glob(f'{GPL}/*.csv')\n",
    "\n",
    "    ncols = None\n",
    "    columns = []\n",
    "\n",
    "    for f in files:\n",
    "\n",
    "        # just read the columns\n",
    "        df = pd.read_csv(f, nrows=1)\n",
    "\n",
    "        # assert that all files have same n cols\n",
    "        if ncols is None: ncols = df.shape[1]\n",
    "        else: assert ncols == df.shape[1]\n",
    "\n",
    "        columns += df.columns.tolist()\n",
    "        columns = list(set(columns))\n",
    "\n",
    "    # assert that all columns are the same\n",
    "    assert len(columns) == ncols\n",
    "\n",
    "def read_and_cast(path):\n",
    "\n",
    "    df = pd.read_csv(path)\n",
    "    # drop the primary key\n",
    "    df = df.drop([\"samples\"], axis=1)\n",
    "\n",
    "    cols = df.columns.tolist()\n",
    "    cols.remove(\"type\")\n",
    "\n",
    "    # there are some data entry erros which cause the columns\n",
    "    # coerce = send these values to nan\n",
    "    for c in cols:\n",
    "        df[c] = pd.to_numeric(df[c], errors='coerce').astype(np.float16)\n",
    "\n",
    "    # we want tag the rows with the type of cancer\n",
    "    cancer = path.split(\"/\")[-1].split(\"_\")[0].lower()\n",
    "\n",
    "    # suppress pandas fragmentation warning\n",
    "    with warnings.catch_warnings():\n",
    "        warnings.simplefilter(\"ignore\")\n",
    "        df[\"cancer\"] = cancer\n",
    "\n",
    "    # drop the missing values\n",
    "    return df.dropna(axis=0)\n",
    "\n",
    "def merge_files(GPL):\n",
    "    files = glob(f'{GPL}/*.csv')\n",
    "    fname = f\"{GPL}/{GPL}.csv\"\n",
    "\n",
    "    # start with first one to get columns\n",
    "    df = read_and_cast(files[0])\n",
    "    df.to_csv(fname, index=False)\n",
    "\n",
    "    # for the rest, skip columns (iloc)\n",
    "    for f in tqdm(files[1:]):\n",
    "        df = read_and_cast(f)\n",
    "        df.to_csv(fname, mode=\"a\", index=False, header=False)"
   ]
  },
  {
   "cell_type": "markdown",
   "metadata": {},
   "source": [
    "Assumes the directory structure is GPL/*.csv. Writes the merged file to GPL/GPL.csv. After merging files, we run label.ipynb."
   ]
  },
  {
   "cell_type": "code",
   "execution_count": 3,
   "metadata": {},
   "outputs": [
    {
     "name": "stderr",
     "output_type": "stream",
     "text": [
      "100%|██████████| 7/7 [00:32<00:00,  4.60s/it]\n"
     ]
    }
   ],
   "source": [
    "GPL = \"GPL96\"\n",
    "validate_files(GPL)\n",
    "merge_files(GPL)"
   ]
  }
 ],
 "metadata": {
  "kernelspec": {
   "display_name": "Python 3",
   "language": "python",
   "name": "python3"
  },
  "language_info": {
   "codemirror_mode": {
    "name": "ipython",
    "version": 3
   },
   "file_extension": ".py",
   "mimetype": "text/x-python",
   "name": "python",
   "nbconvert_exporter": "python",
   "pygments_lexer": "ipython3",
   "version": "3.11.6"
  }
 },
 "nbformat": 4,
 "nbformat_minor": 2
}
