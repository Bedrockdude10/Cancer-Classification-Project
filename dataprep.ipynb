{
 "cells": [
  {
   "cell_type": "code",
   "execution_count": 1,
   "metadata": {},
   "outputs": [],
   "source": [
    "from utils import validate_files, merge_files, read_data, label_data"
   ]
  },
  {
   "cell_type": "markdown",
   "metadata": {},
   "source": [
    "#### Join"
   ]
  },
  {
   "cell_type": "markdown",
   "metadata": {},
   "source": [
    "Assumes the directory structure is GPL/*.csv. Writes the merged file to GPL/GPL.csv. After merging files, we run label.ipynb."
   ]
  },
  {
   "cell_type": "code",
   "execution_count": 3,
   "metadata": {},
   "outputs": [
    {
     "name": "stderr",
     "output_type": "stream",
     "text": [
      "100%|██████████| 7/7 [00:32<00:00,  4.60s/it]\n"
     ]
    }
   ],
   "source": [
    "validate_files(\"GPL96\")\n",
    "merge_files(\"GPL96\")\n",
    "\n",
    "validate_files(\"GPL570\")\n",
    "merge_files(\"GPL570\")"
   ]
  },
  {
   "cell_type": "markdown",
   "metadata": {},
   "source": [
    "#### Label"
   ]
  },
  {
   "cell_type": "markdown",
   "metadata": {},
   "source": [
    "Reads GPL.csv from GPL directory, labels and writes the labelled data into data/GPL.csv"
   ]
  },
  {
   "cell_type": "code",
   "execution_count": null,
   "metadata": {},
   "outputs": [],
   "source": [
    "df = read_data(\"GPL96/GPL96.csv\")\n",
    "df = label_data(df)\n",
    "df.to_csv(\"data/GPL96.csv\", index=False)\n",
    "\n",
    "df = read_data(\"GPL570/GPL570.csv\")\n",
    "df = label_data(df)\n",
    "df.to_csv(\"data/GPL570.csv\", index=False)"
   ]
  },
  {
   "cell_type": "markdown",
   "metadata": {},
   "source": [
    "#### Restrict"
   ]
  },
  {
   "cell_type": "markdown",
   "metadata": {},
   "source": [
    "Read the two labeled datasets, find the intersection (of the labels) and write out rows with labels in the intersection for each dataset."
   ]
  },
  {
   "cell_type": "code",
   "execution_count": null,
   "metadata": {},
   "outputs": [],
   "source": [
    "GPL96 = read_data(\"data/GPL96.csv\")\n",
    "labels_96 = set(GPL96.label.unique())\n",
    "\n",
    "GPL570 = read_data(\"data/GPL570.csv\")\n",
    "labels_570 = set(GPL570.label.unique())\n",
    "\n",
    "intersection = labels_96.intersection(labels_570)\n",
    "\n",
    "GPL96[GPL96.label.isin(intersection)].to_csv(\"data/GPL96Restriction.csv\", index=False)\n",
    "GPL570[GPL570.label.isin(intersection)].to_csv(\"data/GPL570Restriction.csv\", index=False)"
   ]
  }
 ],
 "metadata": {
  "kernelspec": {
   "display_name": "Python 3",
   "language": "python",
   "name": "python3"
  },
  "language_info": {
   "codemirror_mode": {
    "name": "ipython",
    "version": 3
   },
   "file_extension": ".py",
   "mimetype": "text/x-python",
   "name": "python",
   "nbconvert_exporter": "python",
   "pygments_lexer": "ipython3",
   "version": "3.11.6"
  }
 },
 "nbformat": 4,
 "nbformat_minor": 2
}
