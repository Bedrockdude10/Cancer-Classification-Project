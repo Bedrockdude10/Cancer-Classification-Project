{
 "cells": [
  {
   "cell_type": "code",
   "execution_count": null,
   "metadata": {},
   "outputs": [],
   "source": [
    "from collections import defaultdict\n",
    "import pandas as pd\n",
    "import numpy as np"
   ]
  },
  {
   "cell_type": "code",
   "execution_count": null,
   "metadata": {},
   "outputs": [],
   "source": [
    "def read_data(path):\n",
    "    dtype = defaultdict(lambda: np.float16)\n",
    "    dtype[\"cancer\"] = str\n",
    "    dtype[\"type\"] = str\n",
    "    return pd.read_csv(path, dtype=dtype)\n",
    "\n",
    "def label_data(df):\n",
    "    df[\"label\"] = [ x if x == \"normal\" else df.cancer[i] for i, x in enumerate(df.type) ]\n",
    "    return df.drop([\"cancer\", \"type\"], axis=1)"
   ]
  },
  {
   "cell_type": "markdown",
   "metadata": {},
   "source": [
    "Assumes the directory structure is GPL/GPL.csv (the merged file) with an additional folder for clean data called \"data\""
   ]
  },
  {
   "cell_type": "code",
   "execution_count": null,
   "metadata": {},
   "outputs": [],
   "source": [
    "GPL = \"GPL96\""
   ]
  },
  {
   "cell_type": "code",
   "execution_count": null,
   "metadata": {},
   "outputs": [],
   "source": [
    "df = read_data(f\"{GPL}/{GPL}.csv\")\n",
    "df = label_data(df)\n",
    "df.to_csv(f\"data/{GPL}.csv\", index=False)\n",
    "\n",
    "print(df.shape)\n",
    "df.head()"
   ]
  }
 ],
 "metadata": {
  "kernelspec": {
   "display_name": "Python 3",
   "language": "python",
   "name": "python3"
  },
  "language_info": {
   "codemirror_mode": {
    "name": "ipython",
    "version": 3
   },
   "file_extension": ".py",
   "mimetype": "text/x-python",
   "name": "python",
   "nbconvert_exporter": "python",
   "pygments_lexer": "ipython3",
   "version": "3.11.6"
  }
 },
 "nbformat": 4,
 "nbformat_minor": 2
}
