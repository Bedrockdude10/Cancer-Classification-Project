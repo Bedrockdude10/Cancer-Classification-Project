{
 "cells": [
  {
   "cell_type": "code",
   "execution_count": null,
   "metadata": {},
   "outputs": [],
   "source": [
    "from sklearn.model_selection import train_test_split, cross_validate\n",
    "from sklearn.linear_model import LogisticRegression\n",
    "from sklearn.neural_network import MLPClassifier\n",
    "from sklearn.preprocessing import StandardScaler\n",
    "from sklearn.decomposition import PCA\n",
    "from sklearn.pipeline import Pipeline\n",
    "\n",
    "from utils import read_data, int_enc, shuffle_Xy, plot_confusion_matrix, plot_roc_curves\n",
    "import numpy as np"
   ]
  },
  {
   "cell_type": "markdown",
   "metadata": {},
   "source": [
    "#### Run config"
   ]
  },
  {
   "cell_type": "code",
   "execution_count": null,
   "metadata": {},
   "outputs": [],
   "source": [
    "GPL = \"GPL570\"\n",
    "\n",
    "lr_model = Pipeline([\n",
    "    (\"pca\", PCA(n_components=50)),\n",
    "    (\"lr\", LogisticRegression(max_iter=50000))\n",
    "])\n",
    "\n",
    "nn_model = MLPClassifier(hidden_layer_sizes=(50, 50, 50))\n",
    "\n",
    "model = lr_model\n",
    "name = \"LR\""
   ]
  },
  {
   "cell_type": "markdown",
   "metadata": {},
   "source": [
    "#### Read and prepare data"
   ]
  },
  {
   "cell_type": "code",
   "execution_count": null,
   "metadata": {},
   "outputs": [],
   "source": [
    "data = read_data(f\"data/{GPL}.csv\")\n",
    "data = int_enc(data)\n",
    "\n",
    "X = data.drop([\"label\"], axis=1).values\n",
    "y = data[\"label\"].values\n",
    "\n",
    "X = StandardScaler().fit_transform(X)\n",
    "X, y = shuffle_Xy(X, y)"
   ]
  },
  {
   "cell_type": "markdown",
   "metadata": {},
   "source": [
    "#### 10-fold cross validation"
   ]
  },
  {
   "cell_type": "code",
   "execution_count": null,
   "metadata": {},
   "outputs": [],
   "source": [
    "cv = cross_validate(model, X, y, cv=10)\n",
    "scores = cv[\"test_score\"]\n",
    "\n",
    "print(\"Avg. Score: {:.2f}\".format(np.mean(scores)))\n",
    "np.save(f\"results/{name}{GPL}.npy\", scores)"
   ]
  },
  {
   "cell_type": "markdown",
   "metadata": {},
   "source": [
    "#### Fit on train, predict on test"
   ]
  },
  {
   "cell_type": "code",
   "execution_count": null,
   "metadata": {},
   "outputs": [],
   "source": [
    "X_tr, X_te, y_tr, y_te = train_test_split(X, y, test_size=.30)\n",
    "\n",
    "model.fit(X_tr, y_tr)\n",
    "yhat = model.predict(X_te)\n",
    "yhat_proba = model.predict_proba(X_te)"
   ]
  },
  {
   "cell_type": "markdown",
   "metadata": {},
   "source": [
    "#### Plot confusion matrix"
   ]
  },
  {
   "cell_type": "code",
   "execution_count": null,
   "metadata": {},
   "outputs": [],
   "source": [
    "plot_confusion_matrix(\n",
    "    y_te, \n",
    "    yhat, \n",
    "    title=f\"{name} - Confusion Matrix on {GPL}\",\n",
    "    path=f\"results/{name}{GPL}confusion.png\"\n",
    ")"
   ]
  },
  {
   "cell_type": "markdown",
   "metadata": {},
   "source": [
    "#### Plot ROC curves"
   ]
  },
  {
   "cell_type": "code",
   "execution_count": null,
   "metadata": {},
   "outputs": [],
   "source": [
    "plot_roc_curves(\n",
    "    y_te, \n",
    "    yhat_proba, \n",
    "    title=f\"{name} - ROC Curve on {GPL}\", \n",
    "    path=f\"results/{name}{GPL}ROC.png\"\n",
    ")"
   ]
  }
 ],
 "metadata": {
  "kernelspec": {
   "display_name": "Python 3",
   "language": "python",
   "name": "python3"
  },
  "language_info": {
   "codemirror_mode": {
    "name": "ipython",
    "version": 3
   },
   "file_extension": ".py",
   "mimetype": "text/x-python",
   "name": "python",
   "nbconvert_exporter": "python",
   "pygments_lexer": "ipython3",
   "version": "3.11.6"
  }
 },
 "nbformat": 4,
 "nbformat_minor": 2
}
