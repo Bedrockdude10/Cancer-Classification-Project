{
 "cells": [
  {
   "cell_type": "code",
   "execution_count": null,
   "metadata": {},
   "outputs": [],
   "source": [
    "from sklearn.model_selection import GridSearchCV\n",
    "from sklearn.neural_network import MLPClassifier\n",
    "from sklearn.preprocessing import StandardScaler\n",
    "\n",
    "from utils import read_data, int_enc, shuffle_Xy\n",
    "import matplotlib.pyplot as plt\n",
    "import numpy as np"
   ]
  },
  {
   "cell_type": "code",
   "execution_count": null,
   "metadata": {},
   "outputs": [],
   "source": [
    "genes = \"GPL96\""
   ]
  },
  {
   "cell_type": "code",
   "execution_count": null,
   "metadata": {},
   "outputs": [],
   "source": [
    "# prepare the dataset\n",
    "data = read_data(f\"data/{genes}Restriction.csv\")\n",
    "data, labels = int_enc(data)\n",
    "\n",
    "X = data.drop([\"label\"], axis=1).values\n",
    "y = data[\"label\"].values\n",
    "\n",
    "X = StandardScaler().fit_transform(X)\n",
    "X, y = shuffle_Xy(X, y)"
   ]
  },
  {
   "cell_type": "code",
   "execution_count": null,
   "metadata": {},
   "outputs": [],
   "source": [
    "model = GridSearchCV(\n",
    "    estimator=MLPClassifier(activation=\"relu\", max_iter=1000, learning_rate=\"adaptive\"),\n",
    "    param_grid={\n",
    "        'hidden_layer_sizes': (\n",
    "            (50, 50, 50, 50, 50),\n",
    "        ),\n",
    "    },\n",
    "    n_jobs=2\n",
    ")\n",
    "model.fit(X, y)"
   ]
  },
  {
   "cell_type": "code",
   "execution_count": null,
   "metadata": {},
   "outputs": [],
   "source": [
    "print(model.cv_results_[\"mean_test_score\"])\n",
    "print(model.cv_results_[\"param_hidden_layer_sizes\"])"
   ]
  }
 ],
 "metadata": {
  "kernelspec": {
   "display_name": "Python 3",
   "language": "python",
   "name": "python3"
  },
  "language_info": {
   "codemirror_mode": {
    "name": "ipython",
    "version": 3
   },
   "file_extension": ".py",
   "mimetype": "text/x-python",
   "name": "python",
   "nbconvert_exporter": "python",
   "pygments_lexer": "ipython3",
   "version": "3.11.6"
  }
 },
 "nbformat": 4,
 "nbformat_minor": 2
}
